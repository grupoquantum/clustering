{
 "cells": [
  {
   "cell_type": "code",
   "execution_count": 30,
   "metadata": {},
   "outputs": [
    {
     "name": "stdout",
     "output_type": "stream",
     "text": [
      "Grupo 0: [[1, 2], [3, 4], [5, 6], [7, 8]]\n",
      "Grupo 1: [[10, 20], [30, 40], [50, 60], [70, 80]]\n"
     ]
    }
   ],
   "source": [
    "from Neuraline.ArtificialIntelligence.MachineLearning.AutonomousLearning.grid_based_clustering import GridBasedClustering\n",
    "grid_based_clustering = GridBasedClustering()\n",
    "\n",
    "inputs = [[1, 2], [10, 20], [3, 4], [30, 40], [5, 6], [50, 60], [7, 8], [70, 80]]\n",
    "grid_based_clustering.fit(inputs=inputs)\n",
    "clusters = grid_based_clustering.predict(clusters=2) # é obrigatória a definição do número de grupos\n",
    "for i, group in enumerate(clusters): print(f'Grupo {i}: {sorted(group)}') # resultado sem intersecção"
   ]
  },
  {
   "cell_type": "code",
   "execution_count": 31,
   "metadata": {},
   "outputs": [
    {
     "name": "stdout",
     "output_type": "stream",
     "text": [
      "Grupo 0: [[1, 2], [3, 4], [5, 6], [7, 8]]\n",
      "Grupo 1: [[10, 20], [30, 40], [50, 60], [70, 80]]\n"
     ]
    }
   ],
   "source": [
    "from Neuraline.ArtificialIntelligence.MachineLearning.AutonomousLearning.dbscan import DBSCAN\n",
    "dbscan = DBSCAN()\n",
    "\n",
    "inputs = [[1, 2], [10, 20], [3, 4], [30, 40], [5, 6], [50, 60], [7, 8], [70, 80]]\n",
    "dbscan.fit(inputs=inputs, epsilon=.9, min_points=4)\n",
    "clusters = dbscan.predict() # não há definição para o número de grupos\n",
    "for i, group in enumerate(clusters): print(f'Grupo {i}: {sorted(group)}') # resultado sem intersecção"
   ]
  },
  {
   "cell_type": "code",
   "execution_count": 32,
   "metadata": {},
   "outputs": [
    {
     "name": "stdout",
     "output_type": "stream",
     "text": [
      "Grupo 0: [[1, 2], [3, 4], [5, 6], [7, 8], [10, 20], [30, 40]]\n",
      "Grupo 1: [[1, 2], [5, 6], [7, 8], [30, 40], [50, 60], [70, 80]]\n"
     ]
    }
   ],
   "source": [
    "from Neuraline.ArtificialIntelligence.MachineLearning.AutonomousLearning.fuzzy_c_means import FuzzyCMeans\n",
    "fuzzy_c_means = FuzzyCMeans()\n",
    "\n",
    "inputs = [[1, 2], [10, 20], [3, 4], [30, 40], [5, 6], [50, 60], [7, 8], [70, 80]]\n",
    "fuzzy_c_means.fit(inputs=inputs, precision_c=.6)\n",
    "clusters = fuzzy_c_means.predict(c=2) # é obrigatória a definição do número de grupos\n",
    "for i, group in enumerate(clusters): print(f'Grupo {i}: {group}') # resultado COM intersecção"
   ]
  }
 ],
 "metadata": {
  "kernelspec": {
   "display_name": "Python 3.10.4 64-bit",
   "language": "python",
   "name": "python3"
  },
  "language_info": {
   "codemirror_mode": {
    "name": "ipython",
    "version": 3
   },
   "file_extension": ".py",
   "mimetype": "text/x-python",
   "name": "python",
   "nbconvert_exporter": "python",
   "pygments_lexer": "ipython3",
   "version": "3.10.4"
  },
  "orig_nbformat": 4,
  "vscode": {
   "interpreter": {
    "hash": "916dbcbb3f70747c44a77c7bcd40155683ae19c65e1c03b4aa3499c5328201f1"
   }
  }
 },
 "nbformat": 4,
 "nbformat_minor": 2
}
