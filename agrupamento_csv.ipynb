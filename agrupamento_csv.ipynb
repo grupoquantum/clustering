{
 "cells": [
  {
   "cell_type": "code",
   "execution_count": 20,
   "metadata": {},
   "outputs": [
    {
     "name": "stdout",
     "output_type": "stream",
     "text": [
      "[[[1, 2], [3, 4]], [[10, 20], [30, 40]], [[100, 200], [300, 400]]]\n"
     ]
    }
   ],
   "source": [
    "from Neuraline.ArtificialIntelligence.MachineLearning.AutonomousLearning.k_means import KMeans\n",
    "k_means = KMeans()\n",
    "\n",
    "inputs = [[1, 2], [10, 20], [100, 200], [3, 4], [30, 40], [300, 400]]\n",
    "k_means.fit(inputs=inputs)\n",
    "k = 3\n",
    "clusters = k_means.predict(k=k)\n",
    "print(clusters)"
   ]
  },
  {
   "cell_type": "code",
   "execution_count": 21,
   "metadata": {},
   "outputs": [
    {
     "name": "stdout",
     "output_type": "stream",
     "text": [
      "[[1, 2], [3, 4]]\n",
      "[[10, 20], [30, 40]]\n",
      "[[100, 200], [300, 400]]\n"
     ]
    }
   ],
   "source": [
    "for group in range(1, k+1):\n",
    "    print(k_means.getGroup(group=group))"
   ]
  },
  {
   "cell_type": "code",
   "execution_count": 22,
   "metadata": {},
   "outputs": [
    {
     "name": "stdout",
     "output_type": "stream",
     "text": [
      "[[[1, 2], [3, 4]], [[10, 20], [30, 40]], [[100, 200], [300, 400]]]\n"
     ]
    }
   ],
   "source": [
    "k_means = KMeans()\n",
    "clusters = k_means.fitPredict(inputs=inputs, k=k)\n",
    "print(clusters)"
   ]
  },
  {
   "cell_type": "code",
   "execution_count": 19,
   "metadata": {},
   "outputs": [
    {
     "name": "stdout",
     "output_type": "stream",
     "text": [
      "╒═══════════╤═══════════╕\n",
      "│   INPUT_1 │   INPUT_2 │\n",
      "╞═══════════╪═══════════╡\n",
      "│       300 │       400 │\n",
      "├───────────┼───────────┤\n",
      "│        30 │        40 │\n",
      "├───────────┼───────────┤\n",
      "│         3 │         4 │\n",
      "├───────────┼───────────┤\n",
      "│       100 │       200 │\n",
      "├───────────┼───────────┤\n",
      "│        10 │        20 │\n",
      "├───────────┼───────────┤\n",
      "│         1 │         2 │\n",
      "╘═══════════╧═══════════╛\n"
     ]
    },
    {
     "data": {
      "text/plain": [
       "True"
      ]
     },
     "execution_count": 19,
     "metadata": {},
     "output_type": "execute_result"
    }
   ],
   "source": [
    "from Neuraline.Utilities.data import DataTable\n",
    "data = DataTable()\n",
    "data.visualization_csv_inline('./data01.csv')"
   ]
  },
  {
   "cell_type": "code",
   "execution_count": 25,
   "metadata": {},
   "outputs": [
    {
     "name": "stdout",
     "output_type": "stream",
     "text": [
      "[[[1, 2], [3, 4]], [[10, 20], [30, 40]], [[100, 200], [300, 400]]]\n"
     ]
    }
   ],
   "source": [
    "k_means = KMeans()\n",
    "k_means.fitCSV('./data01.csv')\n",
    "clusters = k_means.predict(k=k)\n",
    "print(clusters)"
   ]
  },
  {
   "cell_type": "code",
   "execution_count": 24,
   "metadata": {},
   "outputs": [
    {
     "name": "stdout",
     "output_type": "stream",
     "text": [
      "╒═══════════╤═══════════╕\n",
      "│   INPUT_1 │   INPUT_2 │\n",
      "╞═══════════╪═══════════╡\n",
      "│         3 │         4 │\n",
      "├───────────┼───────────┤\n",
      "│         1 │         2 │\n",
      "╘═══════════╧═══════════╛\n",
      "╒═══════════╤═══════════╕\n",
      "│   INPUT_1 │   INPUT_2 │\n",
      "╞═══════════╪═══════════╡\n",
      "│        30 │        40 │\n",
      "├───────────┼───────────┤\n",
      "│        10 │        20 │\n",
      "╘═══════════╧═══════════╛\n",
      "╒═══════════╤═══════════╕\n",
      "│   INPUT_1 │   INPUT_2 │\n",
      "╞═══════════╪═══════════╡\n",
      "│       300 │       400 │\n",
      "├───────────┼───────────┤\n",
      "│       100 │       200 │\n",
      "╘═══════════╧═══════════╛\n"
     ]
    }
   ],
   "source": [
    "for group in range(1, k+1):\n",
    "    k_means.getGroupCSV(group=group, titles=['INPUT_1', 'INPUT_2'], url_path=f'group{group}.csv')\n",
    "    data.visualization_csv_inline(f'group{group}.csv')"
   ]
  },
  {
   "cell_type": "code",
   "execution_count": 26,
   "metadata": {},
   "outputs": [
    {
     "name": "stdout",
     "output_type": "stream",
     "text": [
      "╒═══════════╤═══════════╕\n",
      "│   INPUT_1 │   INPUT_2 │\n",
      "╞═══════════╪═══════════╡\n",
      "│         3 │         4 │\n",
      "├───────────┼───────────┤\n",
      "│         1 │         2 │\n",
      "╘═══════════╧═══════════╛\n",
      "╒═══════════╤═══════════╕\n",
      "│   INPUT_1 │   INPUT_2 │\n",
      "╞═══════════╪═══════════╡\n",
      "│        30 │        40 │\n",
      "├───────────┼───────────┤\n",
      "│        10 │        20 │\n",
      "╘═══════════╧═══════════╛\n",
      "╒═══════════╤═══════════╕\n",
      "│   INPUT_1 │   INPUT_2 │\n",
      "╞═══════════╪═══════════╡\n",
      "│       300 │       400 │\n",
      "├───────────┼───────────┤\n",
      "│       100 │       200 │\n",
      "╘═══════════╧═══════════╛\n"
     ]
    }
   ],
   "source": [
    "k_means.predictCSV(k=k, titles=['INPUT_1', 'INPUT_2'], url_paths=['group1.csv', 'group2.csv', 'group3.csv'])\n",
    "for group in range(1, k+1):\n",
    "    data.visualization_csv_inline(f'group{group}.csv')"
   ]
  },
  {
   "cell_type": "code",
   "execution_count": 27,
   "metadata": {},
   "outputs": [
    {
     "name": "stdout",
     "output_type": "stream",
     "text": [
      "╒═══════════╤═══════════╕\n",
      "│   INPUT_1 │   INPUT_2 │\n",
      "╞═══════════╪═══════════╡\n",
      "│         3 │         4 │\n",
      "├───────────┼───────────┤\n",
      "│         1 │         2 │\n",
      "╘═══════════╧═══════════╛\n",
      "╒═══════════╤═══════════╕\n",
      "│   INPUT_1 │   INPUT_2 │\n",
      "╞═══════════╪═══════════╡\n",
      "│        30 │        40 │\n",
      "├───────────┼───────────┤\n",
      "│        10 │        20 │\n",
      "╘═══════════╧═══════════╛\n",
      "╒═══════════╤═══════════╕\n",
      "│   INPUT_1 │   INPUT_2 │\n",
      "╞═══════════╪═══════════╡\n",
      "│       300 │       400 │\n",
      "├───────────┼───────────┤\n",
      "│       100 │       200 │\n",
      "╘═══════════╧═══════════╛\n"
     ]
    }
   ],
   "source": [
    "k_means = KMeans()\n",
    "k_means.fitPredictCSV(url_path='./data01.csv', k=k, titles=['INPUT_1', 'INPUT_2'], url_paths=['group1.csv', 'group2.csv', 'group3.csv'])\n",
    "for group in range(1, k+1):\n",
    "    data.visualization_csv_inline(f'group{group}.csv')"
   ]
  },
  {
   "cell_type": "code",
   "execution_count": 28,
   "metadata": {},
   "outputs": [
    {
     "name": "stdout",
     "output_type": "stream",
     "text": [
      "╒═══════════╤═══════════╤═════════╕\n",
      "│   INPUT_1 │   INPUT_2 │   CLASS │\n",
      "╞═══════════╪═══════════╪═════════╡\n",
      "│       300 │       400 │       2 │\n",
      "├───────────┼───────────┼─────────┤\n",
      "│       100 │       200 │       2 │\n",
      "├───────────┼───────────┼─────────┤\n",
      "│        30 │        40 │       1 │\n",
      "├───────────┼───────────┼─────────┤\n",
      "│        10 │        20 │       1 │\n",
      "├───────────┼───────────┼─────────┤\n",
      "│         3 │         4 │       0 │\n",
      "├───────────┼───────────┼─────────┤\n",
      "│         1 │         2 │       0 │\n",
      "╘═══════════╧═══════════╧═════════╛\n"
     ]
    },
    {
     "data": {
      "text/plain": [
       "True"
      ]
     },
     "execution_count": 28,
     "metadata": {},
     "output_type": "execute_result"
    }
   ],
   "source": [
    "k_means = KMeans()\n",
    "k_means.fitPredictExportClassificationCSV(url_path='./data01.csv', k=k, titles=['INPUT_1', 'INPUT_2', 'CLASS'])\n",
    "data.visualization_csv_inline(f'classification.csv')"
   ]
  }
 ],
 "metadata": {
  "kernelspec": {
   "display_name": "Python 3.10.4 64-bit",
   "language": "python",
   "name": "python3"
  },
  "language_info": {
   "codemirror_mode": {
    "name": "ipython",
    "version": 3
   },
   "file_extension": ".py",
   "mimetype": "text/x-python",
   "name": "python",
   "nbconvert_exporter": "python",
   "pygments_lexer": "ipython3",
   "version": "3.10.4"
  },
  "orig_nbformat": 4,
  "vscode": {
   "interpreter": {
    "hash": "916dbcbb3f70747c44a77c7bcd40155683ae19c65e1c03b4aa3499c5328201f1"
   }
  }
 },
 "nbformat": 4,
 "nbformat_minor": 2
}
