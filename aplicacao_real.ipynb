{
 "cells": [
  {
   "cell_type": "markdown",
   "metadata": {},
   "source": [
    "<h4>Dados anônimos dos clientes de uma empresa real mantida em anonimato</h4>\n",
    "<p>Os dados são referentes aos perfis dos clientes relacionados ao tamanho de um determinado acordo financeiro.</p>\n",
    "<ul>\n",
    "\t<li><b>ID:</b> Número de identificação sequencial.</li>\n",
    "\t<li><b>Sex:</b> Código do sexo.</li>\n",
    "\t<li><b>Marital status:</b> Código do estado civil.</li>\n",
    "\t<li><b>Age:</b> Idade em anos.</li>\n",
    "\t<li><b>Education:</b> Nível de educação formal.</li>\n",
    "\t<li><b>Income:</b> Renda anual.</li>\n",
    "\t<li><b>Occupation:</b> Código da ocupação/trabalho.</li>\n",
    "\t<li><b>Settlement size:</b> Código para o tamanho do acordo financeiro.</li>\n",
    "</ul>"
   ]
  },
  {
   "cell_type": "code",
   "execution_count": 9,
   "metadata": {},
   "outputs": [
    {
     "name": "stdout",
     "output_type": "stream",
     "text": [
      "╒═══════════╤═══════╤══════════════════╤═══════╤═════════════╤══════════╤══════════════╤═══════════════════╕\n",
      "│        ID │   Sex │   Marital status │   Age │   Education │   Income │   Occupation │   Settlement size │\n",
      "╞═══════════╪═══════╪══════════════════╪═══════╪═════════════╪══════════╪══════════════╪═══════════════════╡\n",
      "│ 100000001 │     0 │                0 │    67 │           2 │   124670 │            1 │                 2 │\n",
      "├───────────┼───────┼──────────────────┼───────┼─────────────┼──────────┼──────────────┼───────────────────┤\n",
      "│ 100000002 │     1 │                1 │    22 │           1 │   150773 │            1 │                 2 │\n",
      "├───────────┼───────┼──────────────────┼───────┼─────────────┼──────────┼──────────────┼───────────────────┤\n",
      "│ 100000003 │     0 │                0 │    49 │           1 │    89210 │            0 │                 0 │\n",
      "├───────────┼───────┼──────────────────┼───────┼─────────────┼──────────┼──────────────┼───────────────────┤\n",
      "│ 100000004 │     0 │                0 │    45 │           1 │   171565 │            1 │                 1 │\n",
      "├───────────┼───────┼──────────────────┼───────┼─────────────┼──────────┼──────────────┼───────────────────┤\n",
      "│ 100000005 │     0 │                0 │    53 │           1 │   149031 │            1 │                 1 │\n",
      "├───────────┼───────┼──────────────────┼───────┼─────────────┼──────────┼──────────────┼───────────────────┤\n",
      "│ 100000006 │     0 │                0 │    35 │           1 │   144848 │            0 │                 0 │\n",
      "├───────────┼───────┼──────────────────┼───────┼─────────────┼──────────┼──────────────┼───────────────────┤\n",
      "│ 100000007 │     0 │                0 │    53 │           1 │   156495 │            1 │                 1 │\n",
      "├───────────┼───────┼──────────────────┼───────┼─────────────┼──────────┼──────────────┼───────────────────┤\n",
      "│ 100000008 │     0 │                0 │    35 │           1 │   193621 │            2 │                 1 │\n",
      "├───────────┼───────┼──────────────────┼───────┼─────────────┼──────────┼──────────────┼───────────────────┤\n",
      "│ 100000009 │     0 │                1 │    61 │           2 │   151591 │            0 │                 0 │\n",
      "├───────────┼───────┼──────────────────┼───────┼─────────────┼──────────┼──────────────┼───────────────────┤\n",
      "│ 100000010 │     0 │                1 │    28 │           1 │   174646 │            2 │                 0 │\n",
      "╘═══════════╧═══════╧══════════════════╧═══════╧═════════════╧══════════╧══════════════╧═══════════════════╛\n"
     ]
    }
   ],
   "source": [
    "from Neuraline.Utilities.data import DataTable\n",
    "data_table = DataTable()\n",
    "url_path = './segmentation_data.csv'\n",
    "result = data_table.visualization_csv_inline(url_path, limit=10)"
   ]
  },
  {
   "cell_type": "code",
   "execution_count": 10,
   "metadata": {},
   "outputs": [],
   "source": [
    "titles = ['Sex', 'Marital status', 'Age', 'Education', 'Income', 'Occupation', 'Settlement size']\n",
    "inputs = data_table.read_csv(url_path, titles=titles)"
   ]
  },
  {
   "cell_type": "code",
   "execution_count": 12,
   "metadata": {},
   "outputs": [
    {
     "data": {
      "text/plain": [
       "True"
      ]
     },
     "execution_count": 12,
     "metadata": {},
     "output_type": "execute_result"
    }
   ],
   "source": [
    "from Neuraline.ArtificialIntelligence.MachineLearning.AutonomousLearning.k_means import KMeans\n",
    "model = KMeans()\n",
    "\n",
    "model.fit(inputs=inputs, preprocessor='normalization')\n",
    "model.predictCSV(k=3, titles=titles, url_paths=['segmento1.csv', 'segmento2.csv', 'segmento3.csv'])"
   ]
  }
 ],
 "metadata": {
  "kernelspec": {
   "display_name": "Python 3.10.4 64-bit",
   "language": "python",
   "name": "python3"
  },
  "language_info": {
   "codemirror_mode": {
    "name": "ipython",
    "version": 3
   },
   "file_extension": ".py",
   "mimetype": "text/x-python",
   "name": "python",
   "nbconvert_exporter": "python",
   "pygments_lexer": "ipython3",
   "version": "3.10.4"
  },
  "orig_nbformat": 4,
  "vscode": {
   "interpreter": {
    "hash": "916dbcbb3f70747c44a77c7bcd40155683ae19c65e1c03b4aa3499c5328201f1"
   }
  }
 },
 "nbformat": 4,
 "nbformat_minor": 2
}
