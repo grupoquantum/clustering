{
 "cells": [
  {
   "cell_type": "markdown",
   "metadata": {},
   "source": [
    "<h4>K-Means/Médias K</h4>\n",
    "<p>Usa um cálculo baseado em centroides para agrupar os dados em um número específico de grupos definido pela variável k.</p>"
   ]
  },
  {
   "cell_type": "code",
   "execution_count": 94,
   "metadata": {},
   "outputs": [
    {
     "name": "stdout",
     "output_type": "stream",
     "text": [
      "Grupo 0: [[1, 2], [3, 4]]\n",
      "Grupo 1: [[10, 20], [30, 40]]\n",
      "Grupo 2: [[100, 200], [300, 400]]\n",
      "\n",
      "Índices: [0, 1, 2, 0, 1, 2]\n"
     ]
    }
   ],
   "source": [
    "from Neuraline.ArtificialIntelligence.MachineLearning.AutonomousLearning.k_means import KMeans\n",
    "k_means = KMeans()\n",
    "\n",
    "inputs = [[1, 2], [10, 20], [100, 200], [3, 4], [30, 40], [300, 400]]\n",
    "k_means.fit(inputs=inputs)\n",
    "clusters = k_means.predict(k=3) # k = número de grupos resultantes\n",
    "for i, group in enumerate(clusters): print(f'Grupo {i}: {group}')\n",
    "print(f'\\nÍndices: {k_means.INDEXES}')"
   ]
  },
  {
   "cell_type": "markdown",
   "metadata": {},
   "source": [
    "<h4>Affinity Propagation/Propagação por Afinidade</h4>\n",
    "<p>Envia mensagens para os dados e calcula a proximidade entre eles com base na distância percorrida pelas mensagens.</p>"
   ]
  },
  {
   "cell_type": "code",
   "execution_count": 95,
   "metadata": {},
   "outputs": [
    {
     "name": "stdout",
     "output_type": "stream",
     "text": [
      "Grupo 0: [[1, 2], [3, 4]]\n",
      "Grupo 1: [[10, 20], [30, 40]]\n",
      "Grupo 2: [[100, 200], [300, 400]]\n",
      "\n",
      "Índices: [0, 1, 2, 0, 1, 2]\n"
     ]
    }
   ],
   "source": [
    "from Neuraline.ArtificialIntelligence.MachineLearning.AutonomousLearning.affinity_propagation import AffinityPropagation\n",
    "affinity_propagation = AffinityPropagation()\n",
    "\n",
    "inputs = [[1, 2], [10, 20], [100, 200], [3, 4], [30, 40], [300, 400]]\n",
    "affinity_propagation.fit(\n",
    "    inputs=inputs,\n",
    "    message_accuracy=.4 # percentual de precisão da mensagem, quanto mais próximo de 1, menor a separação\n",
    ")\n",
    "clusters = affinity_propagation.predict()\n",
    "for i, group in enumerate(clusters): print(f'Grupo {i}: {group}')\n",
    "print(f'\\nÍndices: {affinity_propagation.INDEXES}')"
   ]
  },
  {
   "cell_type": "markdown",
   "metadata": {},
   "source": [
    "<h4>DBSCAN (Density Based Spatial Clustering of Application with Noise/Agrupamento Espacial Baseado na Densidade da Aplicação com Ruído)</h4>\n",
    "<p>Mede a distância entre os pontos de densidade em dados com ruído e gera grupos com base no número de densidades encontradas.</p>"
   ]
  },
  {
   "cell_type": "code",
   "execution_count": 96,
   "metadata": {},
   "outputs": [
    {
     "name": "stdout",
     "output_type": "stream",
     "text": [
      "Grupo 0: [[1, 2], [3, 4], [5, 6], [7, 8]]\n",
      "Grupo 1: [[10, 20], [30, 40], [50, 60], [70, 80]]\n",
      "\n",
      "Índices: [0, 1, 0, 1, 0, 1, 0, 1]\n"
     ]
    }
   ],
   "source": [
    "from Neuraline.ArtificialIntelligence.MachineLearning.AutonomousLearning.dbscan import DBSCAN\n",
    "dbscan = DBSCAN()\n",
    "\n",
    "inputs = [[1, 2], [10, 20], [3, 4], [30, 40], [5, 6], [50, 60], [7, 8], [70, 80]]\n",
    "dbscan.fit(\n",
    "    inputs=inputs,\n",
    "    epsilon=.9, # percentual de proximidade entre os dados, quanto mais próximo de 1, menor a separação\n",
    "    min_points=4 # número mínimo de pontos/valores para cada região densa\n",
    ")\n",
    "clusters = dbscan.predict()\n",
    "for i, group in enumerate(clusters): print(f'Grupo {i}: {group}')\n",
    "print(f'\\nÍndices: {dbscan.INDEXES}')"
   ]
  },
  {
   "cell_type": "markdown",
   "metadata": {},
   "source": [
    "<h4>Fuzzy C-Means/Média Difusa dos Clusters (C)</h4>\n",
    "<p>Calcula os centroides através de lógica difusa, o que permite agrupar dados com intersecção de valores.</p>"
   ]
  },
  {
   "cell_type": "code",
   "execution_count": 97,
   "metadata": {},
   "outputs": [
    {
     "name": "stdout",
     "output_type": "stream",
     "text": [
      "Grupo 0: [[1, 2], [3, 4], [5, 6], [7, 8], [10, 20], [30, 40]]\n",
      "Grupo 1: [[1, 2], [5, 6], [7, 8], [30, 40], [50, 60], [70, 80]]\n",
      "\n",
      "Índices: [[0, 1], 0, 0, [0, 1], [0, 1], 1, [0, 1], 1]\n"
     ]
    }
   ],
   "source": [
    "from Neuraline.ArtificialIntelligence.MachineLearning.AutonomousLearning.fuzzy_c_means import FuzzyCMeans\n",
    "fuzzy_c_means = FuzzyCMeans()\n",
    "\n",
    "inputs = [[1, 2], [10, 20], [3, 4], [30, 40], [5, 6], [50, 60], [7, 8], [70, 80]]\n",
    "fuzzy_c_means.fit(\n",
    "    inputs=inputs,\n",
    "    precision_c=.6 # percentual de intersecção, quanto mais próximo de 1, maior a intersecção\n",
    ")\n",
    "clusters = fuzzy_c_means.predict(c=2)\n",
    "for i, group in enumerate(clusters): print(f'Grupo {i}: {group}')\n",
    "print(f'\\nÍndices: {fuzzy_c_means.INDEXES}')"
   ]
  },
  {
   "cell_type": "markdown",
   "metadata": {},
   "source": [
    "<h4>Grid Based Clustering/Cluster Baseado em Grade</h4>\n",
    "<p>Separa os grupos com base em uma grade formada por linhas e colunas.</p>"
   ]
  },
  {
   "cell_type": "code",
   "execution_count": 98,
   "metadata": {},
   "outputs": [
    {
     "name": "stdout",
     "output_type": "stream",
     "text": [
      "Grupo 0: [[3, 4], [1, 2]]\n",
      "Grupo 1: [[30, 40], [10, 20]]\n",
      "Grupo 2: [[300, 400], [100, 200]]\n",
      "\n",
      "Índices: [0, 1, 2, 0, 1, 2]\n"
     ]
    }
   ],
   "source": [
    "from Neuraline.ArtificialIntelligence.MachineLearning.AutonomousLearning.grid_based_clustering import GridBasedClustering\n",
    "grid_based_clustering = GridBasedClustering()\n",
    "\n",
    "inputs = [[1, 2], [10, 20], [100, 200], [3, 4], [30, 40], [300, 400]]\n",
    "grid_based_clustering.fit(inputs=inputs)\n",
    "clusters = grid_based_clustering.predict(\n",
    "    clusters=3, # número de grupos resultantes\n",
    "    way='horizontal', # posição da tragetória na análise da grade\n",
    "    intersection='positive' # positive: se houver intersecção irá mantê-las; negative: se houver intersecção irá removê-las\n",
    ")\n",
    "for i, group in enumerate(clusters): print(f'Grupo {i}: {group}')\n",
    "print(f'\\nÍndices: {grid_based_clustering.INDEXES}')"
   ]
  },
  {
   "cell_type": "markdown",
   "metadata": {},
   "source": [
    "<h4>Hierarchical Clustering/Agrupamento Hierárquico</h4>\n",
    "<p>Separa os dados por hierarquia de valores.</p>"
   ]
  },
  {
   "cell_type": "code",
   "execution_count": 99,
   "metadata": {},
   "outputs": [
    {
     "name": "stdout",
     "output_type": "stream",
     "text": [
      "Grupo 0: [[3, 4], [1, 2]]\n",
      "Grupo 1: [[30, 40], [10, 20]]\n",
      "Grupo 2: [[300, 400], [100, 200]]\n",
      "\n",
      "Índices: [0, 1, 2, 0, 1, 2]\n"
     ]
    }
   ],
   "source": [
    "from Neuraline.ArtificialIntelligence.MachineLearning.AutonomousLearning.hierarchical_clustering import HierarchicalClustering\n",
    "hierarchical_clustering = HierarchicalClustering()\n",
    "\n",
    "inputs = [[1, 2], [10, 20], [100, 200], [3, 4], [30, 40], [300, 400]]\n",
    "hierarchical_clustering.fit(inputs=inputs)\n",
    "clusters = hierarchical_clustering.predict(\n",
    "    clusters=3, # número de grupos resultantes\n",
    "    top_down=False, # se True irá organizar a hierarquia do maior para o menor\n",
    "    bottom_up=True # se True irá organizar a hierarquia do menor para o maior\n",
    ")\n",
    "for i, group in enumerate(clusters): print(f'Grupo {i}: {group}')\n",
    "print(f'\\nÍndices: {hierarchical_clustering.INDEXES}')"
   ]
  },
  {
   "cell_type": "markdown",
   "metadata": {},
   "source": [
    "<h4>Kohonen Network/Rede de Kohonen</h4>\n",
    "<p>É uma arquitetura de rede neural focada no agrupamento de dados com base nos relacionamentos entre eles.</p>"
   ]
  },
  {
   "cell_type": "code",
   "execution_count": 101,
   "metadata": {},
   "outputs": [
    {
     "name": "stdout",
     "output_type": "stream",
     "text": [
      "Grupo 0: [[1, 2], [3, 4]]\n",
      "Grupo 1: [[10, 20], [30, 40]]\n",
      "Grupo 2: [[100, 200], [300, 400]]\n",
      "\n",
      "Índices: [0, 1, 2, 0, 1, 2]\n"
     ]
    }
   ],
   "source": [
    "from Neuraline.ArtificialIntelligence.MachineLearning.AutonomousLearning.kohonen_network import KohonenNetwork\n",
    "kohonen_network = KohonenNetwork()\n",
    "\n",
    "inputs = [[1, 2], [10, 20], [100, 200], [3, 4], [30, 40], [300, 400]]\n",
    "kohonen_network.fit(\n",
    "    inputs=inputs,\n",
    "    epochs=5, # número de épocas\n",
    "    activation_function='nonlinear' # função de ativação da entrada\n",
    ")\n",
    "clusters = kohonen_network.predict(clusters=3)\n",
    "for i, group in enumerate(clusters): print(f'Grupo {i}: {group}')\n",
    "print(f'\\nÍndices: {kohonen_network.INDEXES}')"
   ]
  },
  {
   "cell_type": "markdown",
   "metadata": {},
   "source": [
    "<h4>Mean Shift/Deslocamento Médio</h4>\n",
    "<p>Separa os dados com base em um algoritmo de busca que calcula a distância média entre eles.</p>"
   ]
  },
  {
   "cell_type": "code",
   "execution_count": 102,
   "metadata": {},
   "outputs": [
    {
     "name": "stdout",
     "output_type": "stream",
     "text": [
      "Grupo 0: [[1, 2], [3, 4]]\n",
      "Grupo 1: [[10, 20], [30, 40]]\n",
      "Grupo 2: [[100, 200], [300, 400]]\n",
      "\n",
      "Índices: [0, 1, 2, 0, 1, 2]\n"
     ]
    }
   ],
   "source": [
    "from Neuraline.ArtificialIntelligence.MachineLearning.AutonomousLearning.mean_shift import MeanShift\n",
    "mean_shift = MeanShift()\n",
    "\n",
    "inputs = [[1, 2], [10, 20], [100, 200], [3, 4], [30, 40], [300, 400]]\n",
    "mean_shift.fit(\n",
    "    inputs=inputs,\n",
    "    mean_accuracy=.4 # precisão do deslocamento médio\n",
    ")\n",
    "clusters = mean_shift.predict()\n",
    "for i, group in enumerate(clusters): print(f'Grupo {i}: {group}')\n",
    "print(f'\\nÍndices: {mean_shift.INDEXES}')"
   ]
  },
  {
   "cell_type": "markdown",
   "metadata": {},
   "source": [
    "<h4>Spectral Clustering/Agrupamento Espectral</h4>\n",
    "<p>Reduz a dimensionalidade dos dados e analisa o espectro resultante da amostra agrupando os dados com base na semelhança entre eles.</p>"
   ]
  },
  {
   "cell_type": "code",
   "execution_count": 103,
   "metadata": {},
   "outputs": [
    {
     "name": "stdout",
     "output_type": "stream",
     "text": [
      "Grupo 0: [[1, 2], [3, 4]]\n",
      "Grupo 1: [[10, 20], [30, 40]]\n",
      "Grupo 2: [[100, 200], [300, 400]]\n",
      "\n",
      "Índices: [0, 1, 2, 0, 1, 2]\n"
     ]
    }
   ],
   "source": [
    "from Neuraline.ArtificialIntelligence.MachineLearning.AutonomousLearning.spectral_clustering import SpectralClustering\n",
    "spectral_clustering = SpectralClustering()\n",
    "\n",
    "inputs = [[1, 2], [10, 20], [100, 200], [3, 4], [30, 40], [300, 400]]\n",
    "spectral_clustering.fit(inputs=inputs)\n",
    "clusters = spectral_clustering.predict(clusters=3) # clusters = número de grupos resultantes\n",
    "for i, group in enumerate(clusters): print(f'Grupo {i}: {group}')\n",
    "print(f'\\nÍndices: {spectral_clustering.INDEXES}')"
   ]
  },
  {
   "cell_type": "markdown",
   "metadata": {},
   "source": [
    "<h4>Clusterização</h4>"
   ]
  },
  {
   "cell_type": "code",
   "execution_count": 104,
   "metadata": {},
   "outputs": [
    {
     "data": {
      "image/png": "[encoded data removed]",
      "text/plain": [
       "<Figure size 576x288 with 1 Axes>"
      ]
     },
     "metadata": {
      "needs_background": "light"
     },
     "output_type": "display_data"
    }
   ],
   "source": [
    "from Neuraline.Utilities.chart import Chart\n",
    "chart = Chart()\n",
    "clusters = [[[1, 2], [3, 4], [5, 6], [7, 8]], [[10, 20], [30, 40], [50, 60], [70, 80]], [[100, 200], [300, 400], [500, 600], [700, 800]]]\n",
    "chart.plotCLUSTERING(clusters=clusters, clusters_name=['unidades', 'dezenas', 'centenas'], title='Clusterização de Dados')"
   ]
  }
 ],
 "metadata": {
  "kernelspec": {
   "display_name": "Python 3.10.4 64-bit",
   "language": "python",
   "name": "python3"
  },
  "language_info": {
   "codemirror_mode": {
    "name": "ipython",
    "version": 3
   },
   "file_extension": ".py",
   "mimetype": "text/x-python",
   "name": "python",
   "nbconvert_exporter": "python",
   "pygments_lexer": "ipython3",
   "version": "3.10.4"
  },
  "orig_nbformat": 4,
  "vscode": {
   "interpreter": {
    "hash": "916dbcbb3f70747c44a77c7bcd40155683ae19c65e1c03b4aa3499c5328201f1"
   }
  }
 },
 "nbformat": 4,
 "nbformat_minor": 2
}
